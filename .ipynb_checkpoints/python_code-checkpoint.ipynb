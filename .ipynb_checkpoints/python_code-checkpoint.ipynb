{
 "cells": [
  {
   "cell_type": "code",
   "execution_count": 2,
   "metadata": {},
   "outputs": [],
   "source": [
    "import pandas as pd\n",
    "import matplotlib.pyplot as plt\n",
    "import seaborn as sns\n",
    "import os\n",
    "\n"
   ]
  },
  {
   "cell_type": "code",
   "execution_count": 11,
   "metadata": {},
   "outputs": [
    {
     "name": "stderr",
     "output_type": "stream",
     "text": [
      "/Users/michael/opt/anaconda3/lib/python3.8/site-packages/IPython/core/interactiveshell.py:3146: DtypeWarning: Columns (2) have mixed types.Specify dtype option on import or set low_memory=False.\n",
      "  has_raised = await self.run_ast_nodes(code_ast.body, cell_name,\n"
     ]
    },
    {
     "name": "stdout",
     "output_type": "stream",
     "text": [
      "        Num_Acc  catr voie  v1   v2  circ  nbv  pr  pr1  vosp  prof  plan  \\\n",
      "0  201600000001   3.0   39 NaN  NaN   2.0  0.0 NaN  NaN   0.0   1.0   3.0   \n",
      "1  201600000002   3.0   39 NaN  NaN   1.0  0.0 NaN  NaN   0.0   1.0   2.0   \n",
      "2  201600000003   3.0    1 NaN  NaN   2.0  2.0 NaN  NaN   0.0   1.0   3.0   \n",
      "3  201600000004   4.0    0 NaN  NaN   2.0  0.0 NaN  NaN   0.0   1.0   1.0   \n",
      "4  201600000005   4.0    0 NaN  NaN   0.0  0.0 NaN  NaN   0.0   0.0   1.0   \n",
      "\n",
      "   lartpc  larrout  surf  infra  situ  env1  \n",
      "0     0.0      0.0   1.0    0.0   1.0   0.0  \n",
      "1     0.0     58.0   1.0    0.0   1.0   0.0  \n",
      "2     0.0     68.0   2.0    0.0   3.0  99.0  \n",
      "3     0.0      0.0   1.0    0.0   1.0  99.0  \n",
      "4     0.0      0.0   1.0    0.0   1.0   3.0  \n"
     ]
    }
   ],
   "source": [
    "os.getcwd()\n",
    "\n",
    "holidays = pd.read_csv('holidays.csv')\n",
    "places = pd.read_csv('places.csv')\n",
    "users = pd.read_csv('users.csv')\n",
    "vehicles = pd.read_csv('vehicles.csv')\n",
    "print(places.head())"
   ]
  },
  {
   "cell_type": "code",
   "execution_count": null,
   "metadata": {},
   "outputs": [],
   "source": []
  }
 ],
 "metadata": {
  "kernelspec": {
   "display_name": "Python 3",
   "language": "python",
   "name": "python3"
  },
  "language_info": {
   "codemirror_mode": {
    "name": "ipython",
    "version": 3
   },
   "file_extension": ".py",
   "mimetype": "text/x-python",
   "name": "python",
   "nbconvert_exporter": "python",
   "pygments_lexer": "ipython3",
   "version": "3.8.5"
  }
 },
 "nbformat": 4,
 "nbformat_minor": 4
}
